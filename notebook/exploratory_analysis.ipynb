{
 "cells": [
  {
   "cell_type": "markdown",
   "id": "b0c971ad",
   "metadata": {},
   "source": [
    "# Exploratory Analysis\n",
    "\n",
    "This notebook was used to analyze the data from tests results."
   ]
  },
  {
   "cell_type": "code",
   "execution_count": null,
   "id": "1f5db12a",
   "metadata": {},
   "outputs": [],
   "source": [
    "import pandas as pd\n",
    "import scipy.stats as st\n",
    "import matplotlib.pyplot as plt\n",
    "import seaborn as sns"
   ]
  },
  {
   "cell_type": "code",
   "execution_count": null,
   "id": "c765208b",
   "metadata": {},
   "outputs": [],
   "source": [
    "df = pd.read_csv('../data/results_by_mutant_filtered_none_removed.csv')\n"
   ]
  },
  {
   "cell_type": "code",
   "execution_count": null,
   "id": "b0208a53",
   "metadata": {},
   "outputs": [],
   "source": [
    "display(df.describe(include='all'))\n",
    "df.drop(axis=1, labels=[' Human-Error', ' Branch-Error', ' Default-Error'], inplace=True)"
   ]
  },
  {
   "cell_type": "code",
   "execution_count": null,
   "id": "f9c7d5f7",
   "metadata": {},
   "outputs": [],
   "source": [
    "df_grouped_system = df.drop(columns=['Mutant', ' Mutation Operator']).groupby(' System').sum(numeric_only=True)\n",
    "display(df_grouped_system)"
   ]
  },
  {
   "cell_type": "code",
   "execution_count": null,
   "id": "6d444b6d",
   "metadata": {},
   "outputs": [],
   "source": [
    "df_grouped_operator = df.drop(columns=['Mutant', ' System']).groupby(' Mutation Operator').sum(numeric_only=True)\n",
    "display(df_grouped_operator)"
   ]
  },
  {
   "cell_type": "code",
   "execution_count": null,
   "id": "a7b2dd46",
   "metadata": {},
   "outputs": [],
   "source": [
    "# Set style for better visualization\n",
    "plt.style.use('default')\n",
    "sns.set_theme(style=\"whitegrid\")  # Apply seaborn styling\n",
    "\n",
    "# 1. Boxplots for System-level comparison\n",
    "plt.figure(figsize=(10, 6))\n",
    "df_melted_system = df_grouped_system[[' Human-Fail', ' Branch-Fail', ' Default-Fail']].melt()\n",
    "sns.boxplot(x='variable', y='value', data=df_melted_system)\n",
    "plt.title('Distribution of Fail Rates by Test Type (System Level)')\n",
    "plt.xlabel('Test Type')\n",
    "plt.ylabel('Number of Fails')\n",
    "plt.xticks(rotation=45)\n",
    "plt.tight_layout()\n",
    "plt.show()\n",
    "\n",
    "# 2. Violin plots for Operator-level comparison\n",
    "plt.figure(figsize=(10, 6))\n",
    "df_melted_operator = df_grouped_operator[[' Human-Fail', ' Branch-Fail', ' Default-Fail']].melt()\n",
    "sns.violinplot(x='variable', y='value', data=df_melted_operator)\n",
    "plt.title('Distribution of Fail Rates by Test Type (Operator Level)')\n",
    "plt.xlabel('Test Type')\n",
    "plt.ylabel('Number of Fails')\n",
    "plt.xticks(rotation=45)\n",
    "plt.tight_layout()\n",
    "plt.show()\n",
    "\n",
    "# 3. Bar plot showing means with error bars\n",
    "plt.figure(figsize=(10, 6))\n",
    "means = df_grouped_system[[' Human-Fail', ' Branch-Fail', ' Default-Fail']].mean()\n",
    "sems = df_grouped_system[[' Human-Fail', ' Branch-Fail', ' Default-Fail']].sem()\n",
    "means.plot(kind='bar', yerr=sems, capsize=5)\n",
    "plt.title('Mean Fail Rates by Test Type with Standard Error')\n",
    "plt.xlabel('Test Type')\n",
    "plt.ylabel('Mean Number of Fails')\n",
    "plt.xticks(rotation=45)\n",
    "plt.tight_layout()\n",
    "plt.show()\n",
    "\n",
    "# 4. Heatmap of correlations\n",
    "plt.figure(figsize=(8, 6))\n",
    "correlation_matrix = df_grouped_system[[' Human-Fail', ' Branch-Fail', ' Default-Fail']].corr()\n",
    "sns.heatmap(correlation_matrix, annot=True, cmap='coolwarm', vmin=-1, vmax=1)\n",
    "plt.title('Correlation between Test Types')\n",
    "plt.tight_layout()\n",
    "plt.show()\n",
    "\n",
    "# 5. Paired plot to show relationships\n",
    "system_names = df_grouped_system.index\n",
    "plt.figure(figsize=(10, 6))\n",
    "plt.plot(system_names, df_grouped_system[' Human-Fail'], 'o-', label='Human')\n",
    "plt.plot(system_names, df_grouped_system[' Branch-Fail'], 's-', label='Branch')\n",
    "plt.plot(system_names, df_grouped_system[' Default-Fail'], '^-', label='Default')\n",
    "plt.title('Fail Rates Across Systems')\n",
    "plt.xlabel('System')\n",
    "plt.ylabel('Number of Fails')\n",
    "plt.legend()\n",
    "plt.xticks(rotation=45)\n",
    "plt.tight_layout()\n",
    "plt.show()\n",
    "\n",
    "# 6. Paired plot to show relationships\n",
    "operator_names = df_grouped_operator.index\n",
    "plt.figure(figsize=(10, 6))\n",
    "plt.plot(operator_names, df_grouped_operator[' Human-Fail'], 'o-', label='Human')\n",
    "plt.plot(operator_names, df_grouped_operator[' Branch-Fail'], 's-', label='Branch')\n",
    "plt.plot(operator_names, df_grouped_operator[' Default-Fail'], '^-', label='Default')\n",
    "plt.title('Fail Rates Across Operators')\n",
    "plt.xlabel('Operator')\n",
    "plt.ylabel('Number of Fails')\n",
    "plt.legend()\n",
    "plt.xticks(rotation=45)\n",
    "plt.tight_layout()\n",
    "plt.show()"
   ]
  },
  {
   "cell_type": "markdown",
   "id": "5eb946e7",
   "metadata": {},
   "source": [
    "# Group by Operator"
   ]
  },
  {
   "cell_type": "code",
   "execution_count": null,
   "id": "4843bd03",
   "metadata": {},
   "outputs": [],
   "source": [
    "# Test for normality using Shapiro-Wilk test for each fail type in df_grouped_operator\n",
    "for col in [' Human-Fail', ' Branch-Fail', ' Default-Fail']:\n",
    "    stat, p = st.shapiro(df_grouped_operator[col])\n",
    "    print(f\"{col.strip()}: Shapiro-Wilk stat={stat:.3f}, p-value={p:.3f}\")"
   ]
  },
  {
   "cell_type": "markdown",
   "id": "74b81dae",
   "metadata": {},
   "source": [
    "### Interpreting Shapiro-Wilk Test Results\n",
    "The Shapiro-Wilk test evaluates whether data is normally distributed. For each test:\n",
    "\n",
    "Null hypothesis (H0): The data follows a normal distribution\n",
    "Alternative hypothesis (H1): The data does not follow a normal distribution\n",
    "Significance level (α): Typically 0.05\n",
    "\n",
    "### Results Analysis\n",
    "\n",
    "#### Human-Fail\n",
    "\n",
    "- Statistic: 0.661\n",
    "- p-value: 0.000 < 0.05\n",
    "- Interpretation: Reject H0, data is not normally distributed\n",
    "\n",
    "#### Branch-Fail\n",
    "\n",
    "- Statistic: 0.609\n",
    "- p-value: 0.000 < 0.05\n",
    "- Interpretation: Reject H0, data is not normally distributed\n",
    "\n",
    "#### Default-Fail\n",
    "\n",
    "- Statistic: 0.619\n",
    "- p-value: 0.000 < 0.05\n",
    "- Interpretation: Reject H0, data is not normally distributed"
   ]
  },
  {
   "cell_type": "code",
   "execution_count": null,
   "id": "9a9ccca9",
   "metadata": {},
   "outputs": [],
   "source": [
    "stat_branch, p_branch = st.wilcoxon(df_grouped_operator[' Human-Fail'], df_grouped_operator[' Branch-Fail'])\n",
    "stat_default, p_default = st.wilcoxon(df_grouped_operator[' Human-Fail'], df_grouped_operator[' Default-Fail'])\n",
    "\n",
    "print(f\"Wilcoxon Human-Fail vs Branch-Fail: stat={stat_branch:.3f}, p-value={p_branch:.3g}\")\n",
    "print(f\"Wilcoxon Human-Fail vs Default-Fail: stat={stat_default:.3f}, p-value={p_default:.3g}\")"
   ]
  },
  {
   "cell_type": "markdown",
   "id": "3248db91",
   "metadata": {},
   "source": [
    "### Interpreting Wilcoxon Test Results\n",
    "The Wilcoxon signed-rank test results show:\n",
    "\n",
    "#### Human-Fail vs Branch-Fail\n",
    "\n",
    "- Test statistic = 0.000\n",
    "- p-value = 3.56e-08 (much smaller than significance level 0.05)\n",
    "\n",
    "This extremely low p-value indicates strong evidence to reject the null hypothesis\n",
    "\n",
    "We can conclude there is a statistically significant difference between Human-Fail and Branch-Fail rates\n",
    "\n",
    "#### Human-Fail vs Default-Fail\n",
    "\n",
    "- Test statistic = 61.000\n",
    "- p-value = 2.71e-06 (much smaller than significance level 0.05)\n",
    "\n",
    "This very low p-value also indicates strong evidence to reject the null hypothesis\n",
    "\n",
    "We can conclude there is a statistically significant difference between Human-Fail and Default-Fail rates"
   ]
  },
  {
   "cell_type": "markdown",
   "id": "6cb010ae",
   "metadata": {},
   "source": [
    "# Group By System"
   ]
  },
  {
   "cell_type": "code",
   "execution_count": null,
   "id": "6f3a1b97",
   "metadata": {},
   "outputs": [],
   "source": [
    "# Test for normality using Shapiro-Wilk test for each fail type in df_grouped_operator\n",
    "for col in [' Human-Fail', ' Branch-Fail', ' Default-Fail']:\n",
    "    stat, p = st.shapiro(df_grouped_system[col])\n",
    "    print(f\"{col.strip()}: Shapiro-Wilk stat={stat:.3f}, p-value={p:.3f}\")"
   ]
  },
  {
   "cell_type": "markdown",
   "id": "c6d3ddf3",
   "metadata": {},
   "source": [
    "### Interpreting Shapiro-Wilk Test Results\n",
    "The Shapiro-Wilk test evaluates whether data is normally distributed. For each test:\n",
    "\n",
    "Null hypothesis (H0): The data follows a normal distribution\n",
    "Alternative hypothesis (H1): The data does not follow a normal distribution\n",
    "Significance level (α): Typically 0.05\n",
    "\n",
    "### Results Analysis\n",
    "\n",
    "#### Human-Fail\n",
    "\n",
    "- Statistic: 0.849\n",
    "- p-value: 0.190 > 0.05\n",
    "- Interpretation: Fail to reject H0, data is normally distributed\n",
    "\n",
    "#### Branch-Fail\n",
    "\n",
    "- Statistic: 0.845\n",
    "- p-value: 0.179 > 0.05\n",
    "- Interpretation: Fail to reject H0, data is normally distributed\n",
    "\n",
    "#### Default-Fail\n",
    "\n",
    "- Statistic: 0.912\n",
    "- p-value: 0.481 > 0.05\n",
    "- Interpretation: Fail to reject H0, data is normally distributed"
   ]
  },
  {
   "cell_type": "code",
   "execution_count": null,
   "id": "59aa1f94",
   "metadata": {},
   "outputs": [],
   "source": [
    "\n",
    "# Paired t-test between Human-Fail and Branch-Fail in df_grouped_system\n",
    "t_stat_branch, p_value_branch = st.ttest_rel(df_grouped_system[' Human-Fail'], df_grouped_system[' Branch-Fail'])\n",
    "\n",
    "# Paired t-test between Human-Fail and Default-Fail in df_grouped_system\n",
    "t_stat_default, p_value_default = st.ttest_rel(df_grouped_system[' Human-Fail'], df_grouped_system[' Default-Fail'])\n",
    "\n",
    "print(f\"Paired t-test (Human-Fail vs Branch-Fail): t-stat={t_stat_branch:.3f}, p-value={p_value_branch:.3f}\")\n",
    "print(f\"Paired t-test (Human-Fail vs Default-Fail): t-stat={t_stat_default:.3f}, p-value={p_value_default:.3f}\")"
   ]
  },
  {
   "cell_type": "markdown",
   "id": "b588b862",
   "metadata": {},
   "source": [
    "### Interpreting Paired T-Test Results\n",
    "#### Human-Fail vs Branch-Fail\n",
    "\n",
    "- t-statistic = 3.799\n",
    "- p-value = 0.019 (less than significance level 0.05)\n",
    "\n",
    "Interpretation: There is a statistically significant difference between Human-Fail and Branch-Fail rates\n",
    "\n",
    "We can reject the null hypothesis at the 5% significance level\n",
    "\n",
    "#### Human-Fail vs Default-Fail\n",
    "\n",
    "- t-statistic = 2.727\n",
    "- p-value = 0.053 (slightly above significance level 0.05)\n",
    "\n",
    "Interpretation: The difference between Human-Fail and Default-Fail rates is marginally significant\n",
    "\n",
    "If using α = 0.05, we would fail to reject the null hypothesis\n",
    "However, this is very close to being significant, and with α = 0.10 would be considered significant"
   ]
  },
  {
   "cell_type": "markdown",
   "id": "50aa5efb",
   "metadata": {},
   "source": [
    "# Overall Conclusion"
   ]
  },
  {
   "cell_type": "markdown",
   "id": "b0f97e3f",
   "metadata": {},
   "source": [
    "#### By Operator Grouping:\n",
    "\n",
    "Wilcoxon test showed highly significant differences (p < 0.05)\n",
    "Strong evidence that human-written and machine-generated tests perform differently when considering mutation operators\n",
    "\n",
    "This suggests that certain mutation operators are handled differently by human vs machine-generated tests\n",
    "\n",
    "#### By System Grouping:\n",
    "\n",
    "Paired t-test showed marginal or no significant differences (p ≈ 0.05)\n",
    "Less evidence of performance differences when looking at whole systems\n",
    "Suggests similar overall effectiveness at the system level\n"
   ]
  },
  {
   "cell_type": "markdown",
   "id": "8f0e9bea",
   "metadata": {},
   "source": []
  }
 ],
 "metadata": {
  "kernelspec": {
   "display_name": ".conda",
   "language": "python",
   "name": "python3"
  },
  "language_info": {
   "codemirror_mode": {
    "name": "ipython",
    "version": 3
   },
   "file_extension": ".py",
   "mimetype": "text/x-python",
   "name": "python",
   "nbconvert_exporter": "python",
   "pygments_lexer": "ipython3",
   "version": "3.11.11"
  }
 },
 "nbformat": 4,
 "nbformat_minor": 5
}
